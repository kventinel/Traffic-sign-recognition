{
 "cells": [
  {
   "cell_type": "markdown",
   "metadata": {},
   "source": [
    "# Распознование дорожных знаков"
   ]
  },
  {
   "cell_type": "code",
   "execution_count": 106,
   "metadata": {
    "collapsed": true
   },
   "outputs": [],
   "source": [
    "import pandas as pd\n",
    "import sys\n",
    "import math\n",
    "import numpy as np\n",
    "\n",
    "from threading import Thread, Lock\n",
    "from PIL import Image\n",
    "\n",
    "from sklearn.svm import SVC\n",
    "from sklearn.model_selection import cross_val_score\n",
    "from sklearn.model_selection import StratifiedKFold\n",
    "from sklearn.neighbors import KNeighborsClassifier"
   ]
  },
  {
   "cell_type": "markdown",
   "metadata": {},
   "source": [
    "Зададим констатны"
   ]
  },
  {
   "cell_type": "code",
   "execution_count": 107,
   "metadata": {
    "collapsed": true
   },
   "outputs": [],
   "source": [
    "directions = 8\n",
    "field_size = 8, 8\n",
    "image_size = 64, 64\n",
    "indentation = 8\n",
    "eps = 1e-5\n",
    "field_count = (image_size[0] - 2 * indentation) // field_size[0]"
   ]
  },
  {
   "cell_type": "markdown",
   "metadata": {},
   "source": [
    "## Обработка тренировочных данных"
   ]
  },
  {
   "cell_type": "markdown",
   "metadata": {},
   "source": [
    "Считывание csv файла"
   ]
  },
  {
   "cell_type": "code",
   "execution_count": 108,
   "metadata": {
    "collapsed": true
   },
   "outputs": [],
   "source": [
    "Train = pd.read_csv(\"../train/gt.csv\")"
   ]
  },
  {
   "cell_type": "markdown",
   "metadata": {},
   "source": [
    "Извлечение признаков из картинки"
   ]
  },
  {
   "cell_type": "code",
   "execution_count": 109,
   "metadata": {
    "collapsed": true
   },
   "outputs": [],
   "source": [
    "def extract_hog(img):\n",
    "    img = img.resize(image_size, Image.ANTIALIAS)\n",
    "    pix = img.convert('RGB').load()\n",
    "    \n",
    "    hog = [[0 for j in range(directions)] for i in range(field_count ** 2)]\n",
    "    color = [0 for i in range(3)]\n",
    "    \n",
    "    for i in range(indentation, image_size[0] - indentation):\n",
    "        for j in range(indentation, image_size[1] - indentation):\n",
    "            for l in range(3):\n",
    "                color[l] += pix[j, i][l]\n",
    "    \n",
    "    s = sum(color)\n",
    "    for i in range(3):\n",
    "        color[i] /= s\n",
    "        \n",
    "    pix = img.convert('L').load()\n",
    "    \n",
    "    for i in range(indentation, image_size[0] - indentation):\n",
    "        for j in range(indentation, image_size[1] - indentation):\n",
    "            gradient_x = pix[j + 1, i - 1] + 2 * pix[j + 1, i] + pix[j + 1, i + 1] -\\\n",
    "                         pix[j - 1, i - 1] - 2 * pix[j - 1, i] - pix[j - 1, i + 1]\n",
    "            gradient_y = pix[j - 1, i + 1] + 2 * pix[j, i + 1] + pix[j + 1, i + 1] -\\\n",
    "                         pix[j - 1, i - 1] - 2 * pix[j, i - 1] - pix[j + 1, i - 1]\n",
    "            gradient_norm = (gradient_x ** 2 + gradient_y ** 2) ** (1 / 2)\n",
    "            gradient_angle = math.atan2(gradient_y, gradient_x)\n",
    "            hog[((i - indentation) // field_size[0]) * field_count + (j - indentation) // field_size[0]]\\\n",
    "                [int(abs(gradient_angle + math.pi - eps) * (directions // 2) / math.pi)] += gradient_norm\n",
    "    \n",
    "    for field in hog:\n",
    "        norm = 0\n",
    "        for i in field:\n",
    "            norm += i ** 2\n",
    "        norm = norm ** (1 / 2)\n",
    "        for i in range(len(field)):\n",
    "            field[i] /= norm + eps\n",
    "    \n",
    "    return hog, color"
   ]
  },
  {
   "cell_type": "markdown",
   "metadata": {},
   "source": [
    "Извлечём признаки для всех картинок из тренировочной выборки"
   ]
  },
  {
   "cell_type": "code",
   "execution_count": 110,
   "metadata": {
    "collapsed": true
   },
   "outputs": [],
   "source": [
    "def thread_func(l, k):\n",
    "    for i in range(Train.shape[0] * l // k, Train.shape[0] * (l + 1) // k):\n",
    "        mutex.acquire()\n",
    "        img = Image.open(\"../train/\" + Train['filename'][i])\n",
    "        mutex.release()\n",
    "        hog, color = extract_hog(img)\n",
    "        mutex.acquire()\n",
    "        for j in range(3):\n",
    "            Train.set_value(i, str(j), color[j])\n",
    "        for j in range(len(hog)):\n",
    "            for r in range(len(hog[j])):\n",
    "                Train.set_value(i, str(j * 8 + r + 3), hog[j][r])\n",
    "        mutex.release()"
   ]
  },
  {
   "cell_type": "code",
   "execution_count": 111,
   "metadata": {
    "collapsed": true,
    "scrolled": true
   },
   "outputs": [],
   "source": [
    "thread_count = 8\n",
    "threads = []\n",
    "mutex = Lock()\n",
    "for i in range(thread_count):\n",
    "    t = Thread(target=thread_func, args=(i, thread_count))\n",
    "    threads.append(t)\n",
    "for i in range(thread_count):\n",
    "    threads[i].start()\n",
    "for i in range(thread_count):\n",
    "    threads[i].join()"
   ]
  },
  {
   "cell_type": "markdown",
   "metadata": {},
   "source": [
    "Запишем данные файл для быстрого доступа к этим данным при следующих запусках"
   ]
  },
  {
   "cell_type": "code",
   "execution_count": 112,
   "metadata": {
    "collapsed": true
   },
   "outputs": [],
   "source": [
    "Train.to_csv(\"train.csv\")"
   ]
  },
  {
   "cell_type": "markdown",
   "metadata": {},
   "source": [
    "## Обработка тестовых данных"
   ]
  },
  {
   "cell_type": "markdown",
   "metadata": {},
   "source": [
    "Создаём пусто DataFrame"
   ]
  },
  {
   "cell_type": "code",
   "execution_count": 113,
   "metadata": {
    "collapsed": true
   },
   "outputs": [],
   "source": [
    "# Test = pd.DataFrame(index=[i for i in range(12342)])"
   ]
  },
  {
   "cell_type": "markdown",
   "metadata": {},
   "source": [
    "Функция для обработки имени файла"
   ]
  },
  {
   "cell_type": "code",
   "execution_count": 114,
   "metadata": {
    "collapsed": true
   },
   "outputs": [],
   "source": [
    "# def sstr(i):\n",
    "#     res = str(i)\n",
    "#     while len(res) < 5:\n",
    "#         res = '0' + res\n",
    "#     return res"
   ]
  },
  {
   "cell_type": "markdown",
   "metadata": {},
   "source": [
    "Добавим дополнительные столбцы для признаков:"
   ]
  },
  {
   "cell_type": "code",
   "execution_count": 115,
   "metadata": {
    "collapsed": true
   },
   "outputs": [],
   "source": [
    "# for i in range((field_count ** 2) * directions):\n",
    "#     Test[str(i)] = 0.0"
   ]
  },
  {
   "cell_type": "markdown",
   "metadata": {},
   "source": [
    "Извлечём признаки для всех картинок из тренировочной выборки"
   ]
  },
  {
   "cell_type": "code",
   "execution_count": 116,
   "metadata": {
    "collapsed": true
   },
   "outputs": [],
   "source": [
    "# def thread_func_test(l, k):\n",
    "#     for i in range(Test.shape[0] * l // k, Test.shape[0] * (l + 1) // k):\n",
    "#         mutex.acquire()\n",
    "#         img = Image.open(\"../test/\" + sstr(i) + \".png\")\n",
    "#         mutex.release()\n",
    "#         hog = extract_hog(img)\n",
    "#         mutex.acquire()\n",
    "#         for j in range(len(hog)):\n",
    "#             for r in range(len(hog[j])):\n",
    "#                 Test.set_value(i, str(j * 8 + r), hog[j][r])\n",
    "#         mutex.release()"
   ]
  },
  {
   "cell_type": "code",
   "execution_count": 117,
   "metadata": {
    "collapsed": true
   },
   "outputs": [],
   "source": [
    "# thread_count = 8\n",
    "# threads = []\n",
    "# mutex = Lock()\n",
    "# for i in range(thread_count):\n",
    "#     t = Thread(target=thread_func_test, args=(i, thread_count))\n",
    "#     threads.append(t)\n",
    "# for i in range(thread_count):\n",
    "#     threads[i].start()\n",
    "# for i in range(thread_count):\n",
    "#     threads[i].join()"
   ]
  },
  {
   "cell_type": "markdown",
   "metadata": {},
   "source": [
    "Запишем данные файл для быстрого доступа к этим данным при следующих запусках"
   ]
  },
  {
   "cell_type": "code",
   "execution_count": 118,
   "metadata": {
    "collapsed": true
   },
   "outputs": [],
   "source": [
    "# Test.to_csv(\"test.csv\")"
   ]
  },
  {
   "cell_type": "markdown",
   "metadata": {},
   "source": [
    "## Окончательная обработка данных"
   ]
  },
  {
   "cell_type": "markdown",
   "metadata": {},
   "source": [
    "Считывание данных"
   ]
  },
  {
   "cell_type": "code",
   "execution_count": 119,
   "metadata": {
    "collapsed": true
   },
   "outputs": [],
   "source": [
    "# Train = pd.read_csv(\"train.csv\")\n",
    "# Test = pd.read_csv(\"test.csv\")"
   ]
  },
  {
   "cell_type": "markdown",
   "metadata": {},
   "source": [
    "Удаление лишних столбцов"
   ]
  },
  {
   "cell_type": "code",
   "execution_count": 120,
   "metadata": {
    "collapsed": true
   },
   "outputs": [],
   "source": [
    "del Train[\"filename\"]\n",
    "# del Train[\"Unnamed: 0\"]\n",
    "# del Test[\"Unnamed: 0\"]"
   ]
  },
  {
   "cell_type": "markdown",
   "metadata": {},
   "source": [
    "Запишем ответы"
   ]
  },
  {
   "cell_type": "code",
   "execution_count": 121,
   "metadata": {
    "collapsed": true
   },
   "outputs": [],
   "source": [
    "Train_y = pd.DataFrame(data=Train[\"class_id\"], columns=[\"class_id\"])\n",
    "del Train[\"class_id\"]"
   ]
  },
  {
   "cell_type": "markdown",
   "metadata": {},
   "source": [
    "## Нахождение вектора ответов методом SVM"
   ]
  },
  {
   "cell_type": "markdown",
   "metadata": {},
   "source": [
    "Простая кросс-валидация"
   ]
  },
  {
   "cell_type": "code",
   "execution_count": 122,
   "metadata": {},
   "outputs": [],
   "source": [
    "# learn = SVC()\n",
    "# cross_val_score(learn, Train.values, y=Train_y.values[:, 0], n_jobs=-1, cv=StratifiedKFold(n_splits=5, random_state=42)).mean()"
   ]
  },
  {
   "cell_type": "markdown",
   "metadata": {},
   "source": [
    "Обучение"
   ]
  },
  {
   "cell_type": "code",
   "execution_count": 123,
   "metadata": {},
   "outputs": [
    {
     "data": {
      "text/plain": [
       "SVC(C=1.0, cache_size=200, class_weight=None, coef0=0.0,\n",
       "  decision_function_shape=None, degree=3, gamma='auto', kernel='rbf',\n",
       "  max_iter=-1, probability=False, random_state=None, shrinking=True,\n",
       "  tol=0.001, verbose=False)"
      ]
     },
     "execution_count": 123,
     "metadata": {},
     "output_type": "execute_result"
    }
   ],
   "source": [
    "learns = SVC()\n",
    "learns.fit(Train.values, Train_y.values[:, 0])"
   ]
  },
  {
   "cell_type": "code",
   "execution_count": 124,
   "metadata": {},
   "outputs": [
    {
     "data": {
      "text/plain": [
       "KNeighborsClassifier(algorithm='auto', leaf_size=30, metric='minkowski',\n",
       "           metric_params=None, n_jobs=1, n_neighbors=1, p=2,\n",
       "           weights='uniform')"
      ]
     },
     "execution_count": 124,
     "metadata": {},
     "output_type": "execute_result"
    }
   ],
   "source": [
    "learnk = KNeighborsClassifier(n_neighbors=1)\n",
    "learnk.fit(Train.values, Train_y.values[:, 0])"
   ]
  },
  {
   "cell_type": "code",
   "execution_count": 125,
   "metadata": {},
   "outputs": [],
   "source": [
    "def cut_picture(img):\n",
    "    width = img.size[0]\n",
    "    height = img.size[1]\n",
    "    Test = pd.DataFrame(index=[i for i in range(((width - 64) // 24 + 1) * ((height - 64) // 24 + 1))])\n",
    "    Test_y = Test.copy()\n",
    "    k = 0\n",
    "    for i in range(0, height - 63, 24):\n",
    "        for j in range(0, width - 63, 24):\n",
    "            img2 = img.crop((j, i, j + 64, i + 64))\n",
    "            Test_y.set_value(k, 'x', j)\n",
    "            Test_y.set_value(k, 'y', i)\n",
    "            hog, color = extract_hog(img2)\n",
    "            l = 0\n",
    "            for j in color:\n",
    "                Test.set_value(k, str(l), j)\n",
    "                l += 1\n",
    "            for field in hog:\n",
    "                for h in field:\n",
    "                    Test.set_value(k, str(l), h)\n",
    "                    l += 1\n",
    "            k += 1\n",
    "    return Test, Test_y"
   ]
  },
  {
   "cell_type": "code",
   "execution_count": 126,
   "metadata": {},
   "outputs": [],
   "source": [
    "Res = pd.DataFrame(index=[i for i in range(10)])\n",
    "TestSVM = pd.DataFrame(index=[i for i in range(10)])\n",
    "for i in range(10):\n",
    "    Test, Test_y = cut_picture(Image.open(\"../TrainIJCNN2013/\" + sstr(i) + \".ppm\"))\n",
    "    dist, ind = learnk.kneighbors(Test.values)\n",
    "    j = np.argmin(dist)\n",
    "    for s in Test.columns:\n",
    "        TestSVM.set_value(i, s, Test[s][j])\n",
    "    Res.set_value(i, 'x1', Test_y['x'][j])\n",
    "    Res.set_value(i, 'y1', Test_y['y'][j])\n",
    "    Res.set_value(i, 'x2', Test_y['x'][j] + 64)\n",
    "    Res.set_value(i, 'y2', Test_y['y'][j] + 64)"
   ]
  },
  {
   "cell_type": "markdown",
   "metadata": {},
   "source": [
    "Запишем результат в файл"
   ]
  },
  {
   "cell_type": "code",
   "execution_count": 128,
   "metadata": {},
   "outputs": [],
   "source": [
    "score = learns.predict(TestSVM.values)\n",
    "for i in range(10):\n",
    "    Res.set_value(i, 'ans', score[i])\n",
    "Res.to_csv(\"result.csv\", index=False)"
   ]
  },
  {
   "cell_type": "code",
   "execution_count": 67,
   "metadata": {},
   "outputs": [
    {
     "data": {
      "image/png": "[encoded data removed]",
      "text/plain": [
       "<PIL.Image.Image image mode=RGB size=64x64 at 0x7FF756E1DD30>"
      ]
     },
     "execution_count": 67,
     "metadata": {},
     "output_type": "execute_result"
    }
   ],
   "source": [
    "img = Image.open(\"../TrainIJCNN2013/\" + sstr(0) + \".ppm\")\n",
    "img.crop((768,416,832,480))"
   ]
  },
  {
   "cell_type": "code",
   "execution_count": null,
   "metadata": {
    "collapsed": true
   },
   "outputs": [],
   "source": []
  }
 ],
 "metadata": {
  "kernelspec": {
   "display_name": "Python 3",
   "language": "python",
   "name": "python3"
  },
  "language_info": {
   "codemirror_mode": {
    "name": "ipython",
    "version": 3
   },
   "file_extension": ".py",
   "mimetype": "text/x-python",
   "name": "python",
   "nbconvert_exporter": "python",
   "pygments_lexer": "ipython3",
   "version": "3.5.3"
  }
 },
 "nbformat": 4,
 "nbformat_minor": 2
}
