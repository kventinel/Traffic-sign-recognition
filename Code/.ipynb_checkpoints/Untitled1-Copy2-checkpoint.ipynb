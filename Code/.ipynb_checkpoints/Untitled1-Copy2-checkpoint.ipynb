{
 "cells": [
  {
   "cell_type": "code",
   "execution_count": 4,
   "metadata": {
    "collapsed": true
   },
   "outputs": [],
   "source": [
    "import pandas as pd\n",
    "import sys\n",
    "import math\n",
    "import numpy as np\n",
    "\n",
    "from threading import Thread, Lock\n",
    "from PIL import Image\n",
    "\n",
    "from sklearn.svm import SVC\n",
    "from sklearn.model_selection import cross_val_score\n",
    "from sklearn.model_selection import StratifiedKFold"
   ]
  },
  {
   "cell_type": "code",
   "execution_count": 5,
   "metadata": {
    "collapsed": true
   },
   "outputs": [],
   "source": [
    "def extract_hog(img):\n",
    "    \n",
    "    img = img.resize(image_size, Image.ANTIALIAS)\n",
    "    pix = img.convert('RGB').load()\n",
    "    brightness = [[0.0 for j in range(image_size[1])] for i in range(image_size[0])]\n",
    "    for i in range(image_size[0]):\n",
    "        for j in range(image_size[1]):\n",
    "            brightness[i][j] = (pix[j, i][0] + pix[j, i][1] + pix[j, i][2]) / 3\n",
    "    \n",
    "    hog = [[0 for j in range(directions)] for i in range(field_count ** 2)]\n",
    "    for i in range(indentation, image_size[0] - indentation):\n",
    "        for j in range(indentation, image_size[1] - indentation):\n",
    "            gradient_x = brightness[i - 1][j + 1] + 2 * brightness[i][j + 1] + brightness[i + 1][j + 1] -\\\n",
    "                         brightness[i - 1][j - 1] - 2 * brightness[i][j - 1] - brightness[i + 1][j - 1]\n",
    "            gradient_y = brightness[i + 1][j - 1] + 2 * brightness[i + 1][j] + brightness[i + 1][j + 1] -\\\n",
    "                         brightness[i - 1][j - 1] - 2 * brightness[i - 1][j] - brightness[i + 1][j + 1]\n",
    "            gradient_norm = (gradient_x ** 2 + gradient_y ** 2) ** (1 / 2)\n",
    "            gradient_angle = math.atan2(gradient_y, gradient_x)\n",
    "            hog[((i - indentation) // field_size[0]) * field_count + (j - indentation) // field_size[0]]\\\n",
    "                [int(abs(gradient_angle + math.pi - eps) * (directions // 2) / math.pi)] += gradient_norm\n",
    "    \n",
    "    for field in hog:\n",
    "        norm = 0\n",
    "        for i in field:\n",
    "            norm += i ** 2\n",
    "        norm = norm ** (1 / 2)\n",
    "        for i in range(len(field)):\n",
    "            field[i] /= norm + eps\n",
    "    \n",
    "    return hog"
   ]
  },
  {
   "cell_type": "code",
   "execution_count": 6,
   "metadata": {
    "collapsed": true
   },
   "outputs": [],
   "source": [
    "def thread_func(l, k):\n",
    "    for i in range(Train.shape[0] * l // k, Train.shape[0] * (l + 1) // k):\n",
    "        mutex.acquire()\n",
    "        img = Image.open(\"../train/\" + Train['filename'][i])\n",
    "        mutex.release()\n",
    "        hog = extract_hog(img)\n",
    "        mutex.acquire()\n",
    "        for j in range(len(hog)):\n",
    "            for r in range(len(hog[j])):\n",
    "                Train.set_value(i, str(j * 8 + r), hog[j][r])\n",
    "        mutex.release()"
   ]
  },
  {
   "cell_type": "code",
   "execution_count": 7,
   "metadata": {
    "collapsed": true
   },
   "outputs": [],
   "source": [
    "def sstr(i):\n",
    "    res = str(i)\n",
    "    while len(res) < 5:\n",
    "        res = '0' + res\n",
    "    return res"
   ]
  },
  {
   "cell_type": "code",
   "execution_count": 8,
   "metadata": {
    "collapsed": true
   },
   "outputs": [],
   "source": [
    "def thread_func_test(l, k):\n",
    "    for i in range(Test.shape[0] * l // k, Test.shape[0] * (l + 1) // k):\n",
    "        mutex.acquire()\n",
    "        img = Image.open(\"../test/\" + sstr(i) + \".png\")\n",
    "        mutex.release()\n",
    "        hog = extract_hog(img)\n",
    "        mutex.acquire()\n",
    "        for j in range(len(hog)):\n",
    "            for r in range(len(hog[j])):\n",
    "                Test.set_value(i, str(j * 8 + r), hog[j][r])\n",
    "        mutex.release()"
   ]
  },
  {
   "cell_type": "code",
   "execution_count": null,
   "metadata": {},
   "outputs": [],
   "source": [
    "cdirections = [8, 6, 10, 12]\n",
    "for directions in cdirections:\n",
    "    Train = pd.read_csv(\"../train/gt.csv\")\n",
    "    field_size = 7, 7\n",
    "    image_size = 32, 32\n",
    "    indentation = 2\n",
    "    eps = 1e-5\n",
    "    field_count = (image_size[0] - 2 * indentation) // field_size[0]\n",
    "    Test = pd.DataFrame(index=[i for i in range(12342)])\n",
    "    for i in range((field_count ** 2) * directions):\n",
    "        Train[str(i)] = 0.0\n",
    "        Test[str(i)] = 0.0\n",
    "    thread_count = 8\n",
    "    threads = []\n",
    "    mutex = Lock()\n",
    "    for i in range(thread_count):\n",
    "        t = Thread(target=thread_func, args=(i, thread_count))\n",
    "        threads.append(t)\n",
    "    for i in range(thread_count):\n",
    "        threads[i].start()\n",
    "    for i in range(thread_count):\n",
    "        threads[i].join()\n",
    "    del Train[\"filename\"]\n",
    "    thread_count = 8\n",
    "    threads = []\n",
    "    mutex = Lock()\n",
    "    for i in range(thread_count):\n",
    "        t = Thread(target=thread_func_test, args=(i, thread_count))\n",
    "        threads.append(t)\n",
    "    for i in range(thread_count):\n",
    "        threads[i].start()\n",
    "    for i in range(thread_count):\n",
    "        threads[i].join()\n",
    "    Train_y = pd.DataFrame(data=Train[\"class_id\"], columns=[\"class_id\"])\n",
    "    del Train[\"class_id\"]\n",
    "    learn = SVC()\n",
    "    print(cross_val_score(learn, Train.values, y=Train_y.values[:, 0], n_jobs=-1, \n",
    "                          cv=StratifiedKFold(n_splits=5, random_state=42)).mean())"
   ]
  },
  {
   "cell_type": "code",
   "execution_count": null,
   "metadata": {
    "collapsed": true
   },
   "outputs": [],
   "source": []
  }
 ],
 "metadata": {
  "kernelspec": {
   "display_name": "Python 3",
   "language": "python",
   "name": "python3"
  },
  "language_info": {
   "codemirror_mode": {
    "name": "ipython",
    "version": 3
   },
   "file_extension": ".py",
   "mimetype": "text/x-python",
   "name": "python",
   "nbconvert_exporter": "python",
   "pygments_lexer": "ipython3",
   "version": "3.5.3"
  }
 },
 "nbformat": 4,
 "nbformat_minor": 2
}
